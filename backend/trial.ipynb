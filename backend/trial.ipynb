{
 "cells": [
  {
   "cell_type": "code",
   "execution_count": 6,
   "metadata": {},
   "outputs": [],
   "source": [
    "from langchain.llms import CTransformers\n",
    "from langchain_ollama import OllamaLLM\n",
    "import os"
   ]
  },
  {
   "cell_type": "code",
   "execution_count": 7,
   "metadata": {},
   "outputs": [],
   "source": [
    "model=CTransformers(model=\"model/llama-3.1-7b-chat.ggmlv3.q4_0.bin\",\n",
    "                  model_type=\"llama\",\n",
    "                  config={'max_new_tokens':512,\n",
    "                          'temperature':0.8})\n",
    "\n",
    "model = OllamaLLM(model=\"llama3.1\")"
   ]
  },
  {
   "cell_type": "code",
   "execution_count": 8,
   "metadata": {},
   "outputs": [
    {
     "data": {
      "text/plain": [
       "\"I'm so sorry to hear that you're feeling depressed. Please know that I'm here for you, and it's okay to feel this way.\\n\\nFirstly, let me assure you that depression is a common and treatable condition. Many people have gone through similar struggles and have come out stronger on the other side.\\n\\nIf you're willing, can you tell me a bit more about what you've been experiencing? Is there something specific that's causing your feelings of sadness or hopelessness?\\n\\nIn the meantime, I want to offer you some support. Here are some things you might find helpful:\\n\\n*   **You are not alone**. Many people have struggled with depression and come out stronger.\\n*   **It's okay to feel this way**. Depression is a legitimate medical condition that can affect anyone.\\n*   **There is hope for recovery**. With the right treatment, support, and self-care, you can recover from depression.\\n\\nIf you're feeling overwhelmed or in crisis, please reach out to a trusted friend, family member, or mental health professional for immediate support. If you need someone to talk to now, there are also crisis hotlines available:\\n\\n*   In the US: National Suicide Prevention Lifeline (1-800-273-TALK)\\n*   In the UK: Samaritans (116 123)\\n*   In Australia: Lifeline (13 11 14)\\n\\nPlease take care of yourself.\""
      ]
     },
     "execution_count": 8,
     "metadata": {},
     "output_type": "execute_result"
    }
   ],
   "source": [
    "result = model.invoke(input=\"hello i am very depressed\")\n",
    "result"
   ]
  },
  {
   "cell_type": "code",
   "execution_count": null,
   "metadata": {},
   "outputs": [],
   "source": []
  }
 ],
 "metadata": {
  "kernelspec": {
   "display_name": "Python 3",
   "language": "python",
   "name": "python3"
  },
  "language_info": {
   "codemirror_mode": {
    "name": "ipython",
    "version": 3
   },
   "file_extension": ".py",
   "mimetype": "text/x-python",
   "name": "python",
   "nbconvert_exporter": "python",
   "pygments_lexer": "ipython3",
   "version": "3.9.6"
  }
 },
 "nbformat": 4,
 "nbformat_minor": 2
}
